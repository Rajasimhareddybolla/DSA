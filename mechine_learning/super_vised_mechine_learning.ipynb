{
 "cells": [
  {
   "cell_type": "code",
   "execution_count": 2,
   "metadata": {},
   "outputs": [],
   "source": [
    "import numpy as np\n",
    "from sklearn.linear_model import LogisticRegression,LinearRegression"
   ]
  },
  {
   "cell_type": "code",
   "execution_count": 3,
   "metadata": {},
   "outputs": [],
   "source": [
    "X_train =([[1,2,3],[3,45,56],[34,56,78]])\n",
    "Y_train = ([1,2,3])"
   ]
  },
  {
   "cell_type": "code",
   "execution_count": 4,
   "metadata": {},
   "outputs": [],
   "source": [
    "#lineaer regression model \n",
    "# cost = 1/2m(sigma f(x)-y)**2\n",
    "def cost_function(w,b , x,y):\n",
    "    m = x.shape()[0]\n",
    "    n = x.shape()[1]\n",
    "    cost = 0 \n",
    "    for i in range(m):\n",
    "        err = np.dot(w,x[i]) + b - y[i]\n",
    "        cost += err**2\n",
    "    return cost/(2*m)\n",
    "def sigmoid(w,b,x):\n",
    "    f = np.dot(w,x)+b\n",
    "    y = 1/(1+np.exp(f))\n",
    "    return y\n",
    "def l_cost_function(w,b,x,y):\n",
    "    m = x.shape()[0]\n",
    "    cost = 0 \n",
    "    for i in range(m):\n",
    "        pred = sigmoid(w,b,x[i])\n",
    "        cost += y[i]*np.log(pred) +(1-y[i])*np.log(1-pred)\n",
    "    return - cost / m\n",
    "\n",
    "        \n",
    "        \n",
    "    "
   ]
  },
  {
   "cell_type": "code",
   "execution_count": 6,
   "metadata": {},
   "outputs": [],
   "source": [
    "def compute_gradient (w,b,x,y):\n",
    "    m = x.shape()[0]\n",
    "    n = x.shape()[1]\n",
    "    dj_dw = np.array((n,))\n",
    "    dj_db = 0 \n",
    "    for i in range(m):\n",
    "        err = np.dot(w,x[i]) + b - y[i]\n",
    "        for j in range(n):\n",
    "            dj_dw[j] += err*x[i,j]\n",
    "        dj_db += err\n",
    "    return dj_db, dj_dw\n",
    "def compute_gradient_l(w,b,x,y):\n",
    "    m = x.shape()[0]\n",
    "    n = x.shape()[1]\n",
    "    dj_dw = np.array((n,))\n",
    "    dj_db = 0\n",
    "    for i in range(m):\n",
    "        pred = sigmoid(w,b,x[i])\n",
    "        cost = pred-y[i]\n",
    "        for j in range(n):\n",
    "            dj_dw[n] += (cost**2) * x[i,j]\n",
    "        dj_db += cost**2\n"
   ]
  },
  {
   "cell_type": "code",
   "execution_count": null,
   "metadata": {},
   "outputs": [],
   "source": [
    "def gradient_descent()"
   ]
  }
 ],
 "metadata": {
  "kernelspec": {
   "display_name": ".venv",
   "language": "python",
   "name": "python3"
  },
  "language_info": {
   "codemirror_mode": {
    "name": "ipython",
    "version": 3
   },
   "file_extension": ".py",
   "mimetype": "text/x-python",
   "name": "python",
   "nbconvert_exporter": "python",
   "pygments_lexer": "ipython3",
   "version": "3.12.1"
  }
 },
 "nbformat": 4,
 "nbformat_minor": 2
}
